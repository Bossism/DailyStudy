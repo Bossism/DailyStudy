{
  "nbformat": 4,
  "nbformat_minor": 0,
  "metadata": {
    "colab": {
      "name": "datawhalechina_hw2.ipynb",
      "provenance": [],
      "collapsed_sections": [],
      "authorship_tag": "ABX9TyM0CcY8ps9cFHHZDVvJ8ajy",
      "include_colab_link": true
    },
    "kernelspec": {
      "name": "python3",
      "display_name": "Python 3"
    },
    "language_info": {
      "name": "python"
    }
  },
  "cells": [
    {
      "cell_type": "markdown",
      "metadata": {
        "id": "view-in-github",
        "colab_type": "text"
      },
      "source": [
        "<a href=\"https://colab.research.google.com/github/Bossism/DailyStudy/blob/master/datawhalechina_hw2.ipynb\" target=\"_parent\"><img src=\"https://colab.research.google.com/assets/colab-badge.svg\" alt=\"Open In Colab\"/></a>"
      ]
    },
    {
      "cell_type": "markdown",
      "metadata": {
        "id": "Y3qXpA8fAOSI"
      },
      "source": [
        "### 创建tensor"
      ]
    },
    {
      "cell_type": "code",
      "metadata": {
        "id": "0JT9jglK_FXW"
      },
      "source": [
        "import torch"
      ],
      "execution_count": 1,
      "outputs": []
    },
    {
      "cell_type": "code",
      "metadata": {
        "colab": {
          "base_uri": "https://localhost:8080/"
        },
        "id": "XsoRy1KO_Roq",
        "outputId": "63da0f14-d308-440d-c45d-76a12a14b4d6"
      },
      "source": [
        "x = torch.rand(4, 3)\n",
        "x"
      ],
      "execution_count": 2,
      "outputs": [
        {
          "output_type": "execute_result",
          "data": {
            "text/plain": [
              "tensor([[0.6767, 0.8286, 0.3790],\n",
              "        [0.6837, 0.1233, 0.2980],\n",
              "        [0.6336, 0.8101, 0.0954],\n",
              "        [0.5896, 0.6531, 0.8740]])"
            ]
          },
          "metadata": {},
          "execution_count": 2
        }
      ]
    },
    {
      "cell_type": "code",
      "metadata": {
        "colab": {
          "base_uri": "https://localhost:8080/"
        },
        "id": "jCOy1AFu_a1Y",
        "outputId": "b2f5563d-f300-4bae-a034-0a4a46834259"
      },
      "source": [
        "x = torch.zeros(4, 3, dtype=torch.long)\n",
        "x"
      ],
      "execution_count": 3,
      "outputs": [
        {
          "output_type": "execute_result",
          "data": {
            "text/plain": [
              "tensor([[0, 0, 0],\n",
              "        [0, 0, 0],\n",
              "        [0, 0, 0],\n",
              "        [0, 0, 0]])"
            ]
          },
          "metadata": {},
          "execution_count": 3
        }
      ]
    },
    {
      "cell_type": "code",
      "metadata": {
        "colab": {
          "base_uri": "https://localhost:8080/"
        },
        "id": "pxNnNjdA_n71",
        "outputId": "2d6f411e-de0b-4c76-943c-9a38b504ec74"
      },
      "source": [
        "x = torch.tensor([5.5, 3])\n",
        "x"
      ],
      "execution_count": 4,
      "outputs": [
        {
          "output_type": "execute_result",
          "data": {
            "text/plain": [
              "tensor([5.5000, 3.0000])"
            ]
          },
          "metadata": {},
          "execution_count": 4
        }
      ]
    },
    {
      "cell_type": "code",
      "metadata": {
        "colab": {
          "base_uri": "https://localhost:8080/"
        },
        "id": "PKFKLrUF_t3S",
        "outputId": "e079e647-290f-48b6-be0a-c88484fdf303"
      },
      "source": [
        "x = x.new_ones(4, 3, dtype=torch.float)\n",
        "x = torch.randn_like(x, dtype=torch.float)\n",
        "x"
      ],
      "execution_count": 5,
      "outputs": [
        {
          "output_type": "execute_result",
          "data": {
            "text/plain": [
              "tensor([[-0.0927,  0.7754, -0.1235],\n",
              "        [ 2.8375,  0.4702, -0.9763],\n",
              "        [-1.1091, -1.0981,  1.1401],\n",
              "        [-1.7541, -0.0968, -0.3775]])"
            ]
          },
          "metadata": {},
          "execution_count": 5
        }
      ]
    },
    {
      "cell_type": "code",
      "metadata": {
        "colab": {
          "base_uri": "https://localhost:8080/"
        },
        "id": "_Zv5qXqn_6vD",
        "outputId": "bf82acbd-e7e5-45a9-9d33-9f1e79227605"
      },
      "source": [
        "x.size()"
      ],
      "execution_count": 6,
      "outputs": [
        {
          "output_type": "execute_result",
          "data": {
            "text/plain": [
              "torch.Size([4, 3])"
            ]
          },
          "metadata": {},
          "execution_count": 6
        }
      ]
    },
    {
      "cell_type": "code",
      "metadata": {
        "colab": {
          "base_uri": "https://localhost:8080/"
        },
        "id": "5b1av43yAA2M",
        "outputId": "cc1dc269-6e70-483c-d334-7c4ad507a015"
      },
      "source": [
        "x.shape"
      ],
      "execution_count": 7,
      "outputs": [
        {
          "output_type": "execute_result",
          "data": {
            "text/plain": [
              "torch.Size([4, 3])"
            ]
          },
          "metadata": {},
          "execution_count": 7
        }
      ]
    },
    {
      "cell_type": "markdown",
      "metadata": {
        "id": "mB-fCguLAR5G"
      },
      "source": [
        "### 一些操作"
      ]
    },
    {
      "cell_type": "code",
      "metadata": {
        "colab": {
          "base_uri": "https://localhost:8080/"
        },
        "id": "93qHPMEMAUrX",
        "outputId": "87878751-ef25-4201-9ef8-ca861dbcd440"
      },
      "source": [
        "y = torch.rand(4, 3)\n",
        "x + y"
      ],
      "execution_count": 8,
      "outputs": [
        {
          "output_type": "execute_result",
          "data": {
            "text/plain": [
              "tensor([[ 0.3257,  1.4568, -0.0687],\n",
              "        [ 2.8470,  0.8031, -0.0869],\n",
              "        [-1.0918, -0.7266,  1.3238],\n",
              "        [-1.4431,  0.3000,  0.4827]])"
            ]
          },
          "metadata": {},
          "execution_count": 8
        }
      ]
    },
    {
      "cell_type": "code",
      "metadata": {
        "colab": {
          "base_uri": "https://localhost:8080/"
        },
        "id": "z3YoDxDBAaaR",
        "outputId": "6ad6875b-413c-430b-ea2d-ce88cc077ea0"
      },
      "source": [
        "torch.add(x, y)"
      ],
      "execution_count": 9,
      "outputs": [
        {
          "output_type": "execute_result",
          "data": {
            "text/plain": [
              "tensor([[ 0.3257,  1.4568, -0.0687],\n",
              "        [ 2.8470,  0.8031, -0.0869],\n",
              "        [-1.0918, -0.7266,  1.3238],\n",
              "        [-1.4431,  0.3000,  0.4827]])"
            ]
          },
          "metadata": {},
          "execution_count": 9
        }
      ]
    },
    {
      "cell_type": "code",
      "metadata": {
        "colab": {
          "base_uri": "https://localhost:8080/"
        },
        "id": "jW26NSUuAd-s",
        "outputId": "0cf343a3-bd37-4594-9131-5afd1007431b"
      },
      "source": [
        "result = torch.empty(5, 3)\n",
        "torch.add(x, y, out=result)\n",
        "result"
      ],
      "execution_count": 10,
      "outputs": [
        {
          "output_type": "stream",
          "name": "stderr",
          "text": [
            "/usr/local/lib/python3.7/dist-packages/ipykernel_launcher.py:2: UserWarning: An output with one or more elements was resized since it had shape [5, 3], which does not match the required output shape [4, 3].This behavior is deprecated, and in a future PyTorch release outputs will not be resized unless they have zero elements. You can explicitly reuse an out tensor t by resizing it, inplace, to zero elements with t.resize_(0). (Triggered internally at  /pytorch/aten/src/ATen/native/Resize.cpp:23.)\n",
            "  \n"
          ]
        },
        {
          "output_type": "execute_result",
          "data": {
            "text/plain": [
              "tensor([[ 0.3257,  1.4568, -0.0687],\n",
              "        [ 2.8470,  0.8031, -0.0869],\n",
              "        [-1.0918, -0.7266,  1.3238],\n",
              "        [-1.4431,  0.3000,  0.4827]])"
            ]
          },
          "metadata": {},
          "execution_count": 10
        }
      ]
    },
    {
      "cell_type": "code",
      "metadata": {
        "colab": {
          "base_uri": "https://localhost:8080/"
        },
        "id": "9ZZ1h3MeAm60",
        "outputId": "9e0b031b-797c-4682-e943-e4b6995f75ec"
      },
      "source": [
        "y.add_(x)\n",
        "y"
      ],
      "execution_count": 11,
      "outputs": [
        {
          "output_type": "execute_result",
          "data": {
            "text/plain": [
              "tensor([[ 0.3257,  1.4568, -0.0687],\n",
              "        [ 2.8470,  0.8031, -0.0869],\n",
              "        [-1.0918, -0.7266,  1.3238],\n",
              "        [-1.4431,  0.3000,  0.4827]])"
            ]
          },
          "metadata": {},
          "execution_count": 11
        }
      ]
    },
    {
      "cell_type": "code",
      "metadata": {
        "colab": {
          "base_uri": "https://localhost:8080/"
        },
        "id": "gVnTEdRZAuGz",
        "outputId": "2b00c567-c704-45b9-abb4-8d319f19e595"
      },
      "source": [
        "x[:, 1]"
      ],
      "execution_count": 12,
      "outputs": [
        {
          "output_type": "execute_result",
          "data": {
            "text/plain": [
              "tensor([ 0.7754,  0.4702, -1.0981, -0.0968])"
            ]
          },
          "metadata": {},
          "execution_count": 12
        }
      ]
    },
    {
      "cell_type": "code",
      "metadata": {
        "colab": {
          "base_uri": "https://localhost:8080/"
        },
        "id": "jOEjFQFHAwcG",
        "outputId": "df30d17b-09c5-4e3b-9434-d266525c62f1"
      },
      "source": [
        "y = x[0, :]\n",
        "y += 1\n",
        "print(y)\n",
        "print(x[0, :])"
      ],
      "execution_count": 13,
      "outputs": [
        {
          "output_type": "stream",
          "name": "stdout",
          "text": [
            "tensor([0.9073, 1.7754, 0.8765])\n",
            "tensor([0.9073, 1.7754, 0.8765])\n"
          ]
        }
      ]
    },
    {
      "cell_type": "markdown",
      "metadata": {
        "id": "xAy8N-2i-V8s"
      },
      "source": [
        "注意 view() 返回的新tensor与源tensor共享内存(其实是同一个tensor)，也即更改其中的一个，另 外一个也会跟着改变。"
      ]
    },
    {
      "cell_type": "code",
      "metadata": {
        "colab": {
          "base_uri": "https://localhost:8080/"
        },
        "id": "MUCOyvlN9_as",
        "outputId": "08686d6e-9a9e-4f2d-c823-31e7213f1bb2"
      },
      "source": [
        "x = torch.randn(4, 4)\n",
        "y = x.view(-1, 8)\n",
        "y.size()"
      ],
      "execution_count": 15,
      "outputs": [
        {
          "output_type": "execute_result",
          "data": {
            "text/plain": [
              "torch.Size([2, 8])"
            ]
          },
          "metadata": {},
          "execution_count": 15
        }
      ]
    },
    {
      "cell_type": "markdown",
      "metadata": {
        "id": "uiruqIOv-W2I"
      },
      "source": [
        "所以如果我们想返回一个真正新的副本(即不共享内存)该怎么办呢？Pytorch还提供了一 个 reshape() 可以改变形状，但是此函数并不能保证返回的是其拷贝，所以不推荐使用。推荐先用 clone 创造一个副本然后再使用 view 。\n",
        "\n",
        "注意：使用 clone 还有一个好处是会被记录在计算图中，即梯度回传到副本时也会传到源 Tensor 。\n",
        "\n",
        "如果你有一个元素 tensor ，使用 .item() 来获得这个 value："
      ]
    },
    {
      "cell_type": "code",
      "metadata": {
        "colab": {
          "base_uri": "https://localhost:8080/"
        },
        "id": "l0CcmDXE-SzA",
        "outputId": "c218b983-afe6-4c13-b601-40449737f39b"
      },
      "source": [
        "x = torch.randn(1)\n",
        "x.item"
      ],
      "execution_count": 16,
      "outputs": [
        {
          "output_type": "execute_result",
          "data": {
            "text/plain": [
              "<function Tensor.item>"
            ]
          },
          "metadata": {},
          "execution_count": 16
        }
      ]
    },
    {
      "cell_type": "markdown",
      "metadata": {
        "id": "mRY7bv2v-jNR"
      },
      "source": [
        "广播机制"
      ]
    },
    {
      "cell_type": "code",
      "metadata": {
        "colab": {
          "base_uri": "https://localhost:8080/"
        },
        "id": "Lm1X6Zdn-inX",
        "outputId": "f4add637-46f4-4342-bc82-f849c8b00748"
      },
      "source": [
        "x = torch.arange(1, 3).view(1, 2)\n",
        "y = torch.arange(1, 4).view(3, 1)\n",
        "x + y"
      ],
      "execution_count": 19,
      "outputs": [
        {
          "output_type": "execute_result",
          "data": {
            "text/plain": [
              "tensor([[2, 3],\n",
              "        [3, 4],\n",
              "        [4, 5]])"
            ]
          },
          "metadata": {},
          "execution_count": 19
        }
      ]
    },
    {
      "cell_type": "markdown",
      "metadata": {
        "id": "L5f-z_uj_oHJ"
      },
      "source": [
        "### 自动求导"
      ]
    },
    {
      "cell_type": "code",
      "metadata": {
        "colab": {
          "base_uri": "https://localhost:8080/"
        },
        "id": "d-mmXRg8_qDM",
        "outputId": "5f3338f5-1ea4-411d-9f84-0fe93b17155a"
      },
      "source": [
        "import torch\n",
        "x = torch.ones(2, 2, requires_grad=True)\n",
        "x"
      ],
      "execution_count": 20,
      "outputs": [
        {
          "output_type": "execute_result",
          "data": {
            "text/plain": [
              "tensor([[1., 1.],\n",
              "        [1., 1.]], requires_grad=True)"
            ]
          },
          "metadata": {},
          "execution_count": 20
        }
      ]
    },
    {
      "cell_type": "code",
      "metadata": {
        "colab": {
          "base_uri": "https://localhost:8080/"
        },
        "id": "XXhhmXNK_0Ml",
        "outputId": "242fc151-6c58-4c5e-f42e-1cb36a0c895d"
      },
      "source": [
        "y = x ** 2\n",
        "y"
      ],
      "execution_count": 21,
      "outputs": [
        {
          "output_type": "execute_result",
          "data": {
            "text/plain": [
              "tensor([[1., 1.],\n",
              "        [1., 1.]], grad_fn=<PowBackward0>)"
            ]
          },
          "metadata": {},
          "execution_count": 21
        }
      ]
    },
    {
      "cell_type": "code",
      "metadata": {
        "colab": {
          "base_uri": "https://localhost:8080/"
        },
        "id": "mncnVElq_6X_",
        "outputId": "59bf0e64-8625-452a-8bb2-13a8f96b3132"
      },
      "source": [
        "y.grad_fn"
      ],
      "execution_count": 22,
      "outputs": [
        {
          "output_type": "execute_result",
          "data": {
            "text/plain": [
              "<PowBackward0 at 0x7f522a77a290>"
            ]
          },
          "metadata": {},
          "execution_count": 22
        }
      ]
    },
    {
      "cell_type": "code",
      "metadata": {
        "colab": {
          "base_uri": "https://localhost:8080/"
        },
        "id": "RHT7l4fSAAK4",
        "outputId": "a87d6f9e-449d-402c-c833-b6d01390b5d1"
      },
      "source": [
        "z = y * y * 3\n",
        "out = z.mean()\n",
        "print(z, out)"
      ],
      "execution_count": 23,
      "outputs": [
        {
          "output_type": "stream",
          "name": "stdout",
          "text": [
            "tensor([[3., 3.],\n",
            "        [3., 3.]], grad_fn=<MulBackward0>) tensor(3., grad_fn=<MeanBackward0>)\n"
          ]
        }
      ]
    },
    {
      "cell_type": "code",
      "metadata": {
        "id": "vSZsJR_FAje9"
      },
      "source": [
        "out.backward()"
      ],
      "execution_count": 25,
      "outputs": []
    },
    {
      "cell_type": "code",
      "metadata": {
        "colab": {
          "base_uri": "https://localhost:8080/"
        },
        "id": "Dt7QNG_IAV03",
        "outputId": "27a2b59d-f585-435b-9150-20d34fdd159c"
      },
      "source": [
        "a = torch.randn(2, 2) # 缺失情况下默认 requires_grad = False\n",
        "a = ((a * 3) / (a - 1))\n",
        "print(a.requires_grad)\n",
        "a.requires_grad_(True)\n",
        "print(a.requires_grad)\n",
        "b = (a * a).sum()\n",
        "print(b.grad_fn)"
      ],
      "execution_count": 24,
      "outputs": [
        {
          "output_type": "stream",
          "name": "stdout",
          "text": [
            "False\n",
            "True\n",
            "<SumBackward0 object at 0x7f522a7055d0>\n"
          ]
        }
      ]
    },
    {
      "cell_type": "code",
      "metadata": {
        "colab": {
          "base_uri": "https://localhost:8080/"
        },
        "id": "zYPVITznBT5K",
        "outputId": "aa867978-fc6d-427a-b4b0-b39e9ecfa298"
      },
      "source": [
        "x = torch.randn(3, requires_grad=True)\n",
        "print(x)\n",
        "\n",
        "y = x * 2\n",
        "i = 0\n",
        "while y.data.norm() < 1000:\n",
        "    y = y * 2\n",
        "    i = i + 1\n",
        "print(y)\n",
        "print(i)"
      ],
      "execution_count": 26,
      "outputs": [
        {
          "output_type": "stream",
          "name": "stdout",
          "text": [
            "tensor([-0.2133, -1.3176,  0.9632], requires_grad=True)\n",
            "tensor([ -218.4471, -1349.2706,   986.3589], grad_fn=<MulBackward0>)\n",
            "9\n"
          ]
        }
      ]
    },
    {
      "cell_type": "code",
      "metadata": {
        "colab": {
          "base_uri": "https://localhost:8080/"
        },
        "id": "O2k_K6ATBVhY",
        "outputId": "d62e669b-2086-465d-cc46-1b3bf19c2520"
      },
      "source": [
        "v = torch.tensor([0.1, 1.0, 0.0001], dtype=torch.float)\n",
        "y.backward(v)\n",
        "\n",
        "print(x.grad)"
      ],
      "execution_count": 27,
      "outputs": [
        {
          "output_type": "stream",
          "name": "stdout",
          "text": [
            "tensor([1.0240e+02, 1.0240e+03, 1.0240e-01])\n"
          ]
        }
      ]
    },
    {
      "cell_type": "code",
      "metadata": {
        "colab": {
          "base_uri": "https://localhost:8080/"
        },
        "id": "hKN-tNkOBXuf",
        "outputId": "1e0c6f93-7131-4120-f945-45b14c967e2c"
      },
      "source": [
        "print(x.requires_grad)\n",
        "print((x ** 2).requires_grad)\n",
        "\n",
        "with torch.no_grad():\n",
        "    print((x ** 2).requires_grad)"
      ],
      "execution_count": 28,
      "outputs": [
        {
          "output_type": "stream",
          "name": "stdout",
          "text": [
            "True\n",
            "True\n",
            "False\n"
          ]
        }
      ]
    },
    {
      "cell_type": "code",
      "metadata": {
        "colab": {
          "base_uri": "https://localhost:8080/"
        },
        "id": "ZX_OqLZeBaGT",
        "outputId": "9e9f9f63-a137-4c47-cd62-e557481b07e9"
      },
      "source": [
        "x = torch.ones(1,requires_grad=True)\n",
        "\n",
        "print(x.data) # 还是一个tensor\n",
        "print(x.data.requires_grad) # 但是已经是独立于计算图之外\n",
        "\n",
        "y = 2 * x\n",
        "x.data *= 100 # 只改变了值，不会记录在计算图，所以不会影响梯度传播\n",
        "\n",
        "y.backward()\n",
        "print(x) # 更改data的值也会影响tensor的值 \n",
        "print(x.grad)"
      ],
      "execution_count": 29,
      "outputs": [
        {
          "output_type": "stream",
          "name": "stdout",
          "text": [
            "tensor([1.])\n",
            "False\n",
            "tensor([100.], requires_grad=True)\n",
            "tensor([2.])\n"
          ]
        }
      ]
    }
  ]
}