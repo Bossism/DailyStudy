{
  "nbformat": 4,
  "nbformat_minor": 0,
  "metadata": {
    "colab": {
      "name": "Untitled20.ipynb",
      "provenance": [],
      "mount_file_id": "1NU--ILkEcMAp7Qrvy3RYQxVq6XVG6ck_",
      "authorship_tag": "ABX9TyNUjmmx2FiC+Jlr6A0IwoX4",
      "include_colab_link": true
    },
    "kernelspec": {
      "name": "python3",
      "display_name": "Python 3"
    },
    "language_info": {
      "name": "python"
    },
    "accelerator": "GPU"
  },
  "cells": [
    {
      "cell_type": "markdown",
      "metadata": {
        "id": "view-in-github",
        "colab_type": "text"
      },
      "source": [
        "<a href=\"https://colab.research.google.com/github/Bossism/DailyStudy/blob/master/GRec.ipynb\" target=\"_parent\"><img src=\"https://colab.research.google.com/assets/colab-badge.svg\" alt=\"Open In Colab\"/></a>"
      ]
    },
    {
      "cell_type": "code",
      "metadata": {
        "colab": {
          "base_uri": "https://localhost:8080/"
        },
        "id": "SB9U34Gid1bM",
        "outputId": "9b001630-d5a5-4e83-f7a6-9143ee8231ad"
      },
      "source": [
        "!ls"
      ],
      "execution_count": null,
      "outputs": [
        {
          "output_type": "stream",
          "name": "stdout",
          "text": [
            "Drive already mounted at /content/drive; to attempt to forcibly remount, call drive.mount(\"/content/drive\", force_remount=True).\n"
          ]
        }
      ]
    },
    {
      "cell_type": "code",
      "metadata": {
        "colab": {
          "base_uri": "https://localhost:8080/"
        },
        "id": "EcvoL-tSeTqM",
        "outputId": "a588d541-ca27-414b-ebf2-15f1a427a284"
      },
      "source": [
        "!python /content/drive/MyDrive/main.py"
      ],
      "execution_count": 1,
      "outputs": [
        {
          "output_type": "stream",
          "name": "stdout",
          "text": [
            "n_users=31421, n_items=727\n",
            "n_interactions=530198\n",
            "n_train=499107, n_test=31091, sparsity=0.02321\n",
            "already load adj matrix (32148, 32148) 2.4157519340515137\n",
            "use the normalized adjacency matrix\n",
            "model_type is sngcf_norm_ngcf_l3\n",
            "----self.alg_type is ngcf----\n",
            "NGCF(\n",
            "  (dropout_list): ModuleList(\n",
            "    (0): Dropout(p=0.1, inplace=False)\n",
            "    (1): Dropout(p=0.1, inplace=False)\n",
            "    (2): Dropout(p=0.1, inplace=False)\n",
            "  )\n",
            "  (GC_Linear_list): ModuleList(\n",
            "    (0): Linear(in_features=16, out_features=128, bias=True)\n",
            "    (1): Linear(in_features=128, out_features=128, bias=True)\n",
            "    (2): Linear(in_features=128, out_features=128, bias=True)\n",
            "  )\n",
            "  (Bi_Linear_list): ModuleList(\n",
            "    (0): Linear(in_features=16, out_features=128, bias=True)\n",
            "    (1): Linear(in_features=128, out_features=128, bias=True)\n",
            "    (2): Linear(in_features=128, out_features=128, bias=True)\n",
            "  )\n",
            "  (user_embedding): Embedding(31421, 16)\n",
            "  (item_embedding): Embedding(727, 16)\n",
            ")\n",
            "GC_Linear_list.0.weight   torch.Size([128, 16])\n",
            "GC_Linear_list.0.bias   torch.Size([128])\n",
            "GC_Linear_list.1.weight   torch.Size([128, 128])\n",
            "GC_Linear_list.1.bias   torch.Size([128])\n",
            "GC_Linear_list.2.weight   torch.Size([128, 128])\n",
            "GC_Linear_list.2.bias   torch.Size([128])\n",
            "Bi_Linear_list.0.weight   torch.Size([128, 16])\n",
            "Bi_Linear_list.0.bias   torch.Size([128])\n",
            "Bi_Linear_list.1.weight   torch.Size([128, 128])\n",
            "Bi_Linear_list.1.bias   torch.Size([128])\n",
            "Bi_Linear_list.2.weight   torch.Size([128, 128])\n",
            "Bi_Linear_list.2.bias   torch.Size([128])\n",
            "user_embedding.weight   torch.Size([31421, 16])\n",
            "item_embedding.weight   torch.Size([727, 16])\n",
            "without pretraining\n",
            "Epoch 0 [131.1s]: train==[93.56625=93.52913 + 0.03713]\n",
            "Epoch 1 [130.7s]: train==[42.61438=42.54668 + 0.06771]\n",
            "Epoch 2 [130.9s]: train==[32.07918=31.98828 + 0.09090]\n",
            "Epoch 3 [131.4s]: train==[26.32434=26.21943 + 0.10491]\n",
            "Epoch 4 [131.2s]: train==[23.81639=23.70345 + 0.11294]\n",
            "Epoch 5 [131.0s]: train==[21.74360=21.62403 + 0.11956]\n",
            "Epoch 6 [131.1s]: train==[20.20990=20.08628 + 0.12362]\n",
            "Epoch 7 [130.9s]: train==[19.52312=19.39664 + 0.12648]\n",
            "Epoch 8 [130.7s]: train==[18.86998=18.74023 + 0.12975]\n",
            "Epoch 9 [131.0s + 21.3s]: train==[18.09501=17.96379 + 0.13122 + 0.00000], recall=[0.58071, 0.68319], precision=[0.11614, 0.06832], hit=[0.58071, 0.68319], ndcg=[0.47434, 0.50761], map=[0.43912, 0.45293], mrr=[0.43912, 0.45293], f1=[0.19357, 0.12422]\n",
            "----the recommend result has 31091 items.\n",
            "Best Iter=[0]@[1348.5]\trecall=[0.58071\t0.68319], precision=[0.11614\t0.06832], hit=[0.58071\t0.68319], ndcg=[0.47434\t0.50761], map=[0.43912\t0.45293],mrr=[0.43912\t0.45293], f1=[0.19357\t0.12422]\n",
            "Benchmarking time consuming: average 131.03643345832825s per epoch\n"
          ]
        }
      ]
    }
  ]
}