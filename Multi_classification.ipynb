{
  "nbformat": 4,
  "nbformat_minor": 0,
  "metadata": {
    "colab": {
      "name": "Multi_classification.ipynb",
      "provenance": [],
      "collapsed_sections": [],
      "authorship_tag": "ABX9TyP7rFX0sD24f6W9jhQvwSRN",
      "include_colab_link": true
    },
    "kernelspec": {
      "name": "python3",
      "display_name": "Python 3"
    },
    "language_info": {
      "name": "python"
    }
  },
  "cells": [
    {
      "cell_type": "markdown",
      "metadata": {
        "id": "view-in-github",
        "colab_type": "text"
      },
      "source": [
        "<a href=\"https://colab.research.google.com/github/Bossism/DailyStudy/blob/master/Multi_classification.ipynb\" target=\"_parent\"><img src=\"https://colab.research.google.com/assets/colab-badge.svg\" alt=\"Open In Colab\"/></a>"
      ]
    },
    {
      "cell_type": "markdown",
      "metadata": {
        "id": "-lBfHMAoGGSZ"
      },
      "source": [
        "加载路透社数据集"
      ]
    },
    {
      "cell_type": "code",
      "metadata": {
        "id": "JEZbG093CNWw"
      },
      "source": [
        "from keras.datasets import reuters\n",
        "\n",
        "(train_data, train_labels), (test_data,test_labels) = reuters.load_data(\n",
        "    num_words = 10000\n",
        ")"
      ],
      "execution_count": null,
      "outputs": []
    },
    {
      "cell_type": "code",
      "metadata": {
        "colab": {
          "base_uri": "https://localhost:8080/"
        },
        "id": "QM8IeGUoGqbB",
        "outputId": "2c56b300-19ee-40ac-bdbf-2a91a0ac9c74"
      },
      "source": [
        "print(len(train_data))\n",
        "print(len(test_data))\n",
        "print(train_data[0])\n",
        "\n",
        "word_index = reuters.get_word_index()\n",
        "reverse_word_index = dict([(value, key) for (key,value) in word_index.items()])\n",
        "decoded_newswire = ' '.join([reverse_word_index.get(i-3,'?') for i in train_data[0]])\n",
        "# 索引减去了3是因为0 1 2分别为 \"padding\"(填充) \"start of sequence\"(序列开始) \"unknown\"(未知词)\n",
        "print(decoded_newswire)\n",
        "print(train_labels[0])"
      ],
      "execution_count": 5,
      "outputs": [
        {
          "output_type": "stream",
          "text": [
            "8982\n",
            "2246\n",
            "[1, 2, 2, 8, 43, 10, 447, 5, 25, 207, 270, 5, 3095, 111, 16, 369, 186, 90, 67, 7, 89, 5, 19, 102, 6, 19, 124, 15, 90, 67, 84, 22, 482, 26, 7, 48, 4, 49, 8, 864, 39, 209, 154, 6, 151, 6, 83, 11, 15, 22, 155, 11, 15, 7, 48, 9, 4579, 1005, 504, 6, 258, 6, 272, 11, 15, 22, 134, 44, 11, 15, 16, 8, 197, 1245, 90, 67, 52, 29, 209, 30, 32, 132, 6, 109, 15, 17, 12]\n",
            "? ? ? said as a result of its december acquisition of space co it expects earnings per share in 1987 of 1 15 to 1 30 dlrs per share up from 70 cts in 1986 the company said pretax net should rise to nine to 10 mln dlrs from six mln dlrs in 1986 and rental operation revenues to 19 to 22 mln dlrs from 12 5 mln dlrs it said cash flow per share this year should be 2 50 to three dlrs reuter 3\n",
            "3\n"
          ],
          "name": "stdout"
        }
      ]
    },
    {
      "cell_type": "markdown",
      "metadata": {
        "id": "OS10Wy7cI1rf"
      },
      "source": [
        "数据向量化"
      ]
    },
    {
      "cell_type": "code",
      "metadata": {
        "id": "iyrAG75qI7EC"
      },
      "source": [
        "from keras.utils.np_utils import to_categorical\n",
        "\n",
        "one_hot_train_labels = to_categorical(train_labels)\n",
        "one_hot_test_labels = to_categorical(test_labels)\n",
        "\n",
        "import numpy as np\n",
        "def vectorize_sequences(sequences,dimension=10000):\n",
        "  results = np.zeros((len(sequences),dimension))\n",
        "  for i,sequence in enumerate(sequences):\n",
        "    results[i,sequence] = 1\n",
        "  return results\n",
        "\n",
        "x_train = vectorize_sequences(train_data)\n",
        "x_test = vectorize_sequences(test_data)\n",
        "\n",
        "print(x_train)\n",
        "print(train_labels)\n",
        "print(x_test)\n",
        "print(test_labels)"
      ],
      "execution_count": null,
      "outputs": []
    },
    {
      "cell_type": "markdown",
      "metadata": {
        "id": "WDyRS6owLMXW"
      },
      "source": [
        "构建网络"
      ]
    },
    {
      "cell_type": "code",
      "metadata": {
        "id": "qK_n7VaPLNtA"
      },
      "source": [
        "from keras import models\n",
        "from keras import layers\n",
        "\n",
        "model = models.Sequential()\n",
        "model.add(layers.Dense(64,activation='relu',input_shape=(10000,)))\n",
        "model.add(layers.Dense(64,activation='relu'))\n",
        "model.add(layers.Dense(46,activation='softmax'))\n",
        "\n",
        "model.compile(optimizer='rmsprop',\n",
        "              loss='categorical_crossentropy',\n",
        "              metrics=['accuracy'])"
      ],
      "execution_count": 7,
      "outputs": []
    },
    {
      "cell_type": "markdown",
      "metadata": {
        "id": "8wmsocGHMx38"
      },
      "source": [
        "验证我的小方法，在训练数据集中留出1000个样本作为验证集\n",
        "\n"
      ]
    },
    {
      "cell_type": "code",
      "metadata": {
        "id": "iPZ-oK5kMxNq"
      },
      "source": [
        "x_val = x_train[:1000]\n",
        "partial_x_train = x_train[1000:]\n",
        "y_val = one_hot_train_labels[:1000]\n",
        "partial_y_train = one_hot_train_labels[1000:]\n",
        "\n",
        "history = model.fit(partial_x_train,\n",
        "                    partial_y_train,\n",
        "                    epochs=20,\n",
        "                    batch_size=512,\n",
        "                    validation_data=(x_val,y_val))"
      ],
      "execution_count": null,
      "outputs": []
    },
    {
      "cell_type": "code",
      "metadata": {
        "colab": {
          "base_uri": "https://localhost:8080/",
          "height": 295
        },
        "id": "0xOMUDvQPy-K",
        "outputId": "d4fd7591-6e91-44a1-d8f4-c3ccbd0d9607"
      },
      "source": [
        "import matplotlib.pyplot as plt\n",
        "loss = history.history['loss']\n",
        "val_loss = history.history['val_loss']\n",
        "epochs = range(1,len(loss)+1)\n",
        "plt.plot(epochs,loss,'bo',label='Training loss')\n",
        "plt.plot(epochs,val_loss,'b',label='Validation loss')\n",
        "plt.title('Training and Validation loss')\n",
        "plt.xlabel('Epochs')\n",
        "plt.ylabel('Loss')\n",
        "plt.legend()\n",
        "plt.show()"
      ],
      "execution_count": 10,
      "outputs": [
        {
          "output_type": "display_data",
          "data": {
            "image/png": "[encoded data removed]",
            "text/plain": [
              "<Figure size 432x288 with 1 Axes>"
            ]
          },
          "metadata": {
            "tags": [],
            "needs_background": "light"
          }
        }
      ]
    },
    {
      "cell_type": "code",
      "metadata": {
        "colab": {
          "base_uri": "https://localhost:8080/",
          "height": 295
        },
        "id": "rjUbfzqNP37O",
        "outputId": "7e7e88b5-ee1a-4b09-edf5-666331773f83"
      },
      "source": [
        "plt.clf()\n",
        "acc = history.history['accuracy']\n",
        "val_acc = history.history['val_accuracy']\n",
        "epochs = range(1,len(acc)+1)\n",
        "plt.plot(epochs,acc,'bo',label='Training acc')\n",
        "plt.plot(epochs,val_acc,'b',label='Validation acc')\n",
        "plt.title('Training and Validation Accuracy')\n",
        "plt.xlabel('Epochs')\n",
        "plt.ylabel('Accuracy')\n",
        "plt.legend()\n",
        "plt.show()"
      ],
      "execution_count": 12,
      "outputs": [
        {
          "output_type": "display_data",
          "data": {
            "image/png": "[encoded data removed]",
            "text/plain": [
              "<Figure size 432x288 with 1 Axes>"
            ]
          },
          "metadata": {
            "tags": [],
            "needs_background": "light"
          }
        }
      ]
    },
    {
      "cell_type": "code",
      "metadata": {
        "colab": {
          "base_uri": "https://localhost:8080/"
        },
        "id": "CzXtgy4XbQw7",
        "outputId": "9c880da1-7e1c-4cdb-952c-712c5cd9f917"
      },
      "source": [
        "model = models.Sequential()\n",
        "model.add(layers.Dense(64,activation='relu',input_shape=(10000,)))\n",
        "model.add(layers.Dense(64,activation='relu'))\n",
        "model.add(layers.Dense(46,activation='softmax'))\n",
        "\n",
        "model.compile(optimizer='rmsprop',\n",
        "              loss='categorical_crossentropy',\n",
        "              metrics=['accuracy'])\n",
        "history = model.fit(partial_x_train,\n",
        "                    partial_y_train,\n",
        "                    epochs=9,\n",
        "                    batch_size=512,\n",
        "                    validation_data=(x_val,y_val))\n",
        "results = model.evaluate(x_test,one_hot_test_labels)\n",
        "print(results)"
      ],
      "execution_count": 13,
      "outputs": [
        {
          "output_type": "stream",
          "text": [
            "Epoch 1/9\n",
            "16/16 [==============================] - 2s 69ms/step - loss: 3.1202 - accuracy: 0.3773 - val_loss: 1.7666 - val_accuracy: 0.6410\n",
            "Epoch 2/9\n",
            "16/16 [==============================] - 1s 57ms/step - loss: 1.5401 - accuracy: 0.6880 - val_loss: 1.3164 - val_accuracy: 0.7160\n",
            "Epoch 3/9\n",
            "16/16 [==============================] - 1s 58ms/step - loss: 1.0810 - accuracy: 0.7686 - val_loss: 1.1618 - val_accuracy: 0.7340\n",
            "Epoch 4/9\n",
            "16/16 [==============================] - 1s 58ms/step - loss: 0.8478 - accuracy: 0.8228 - val_loss: 1.0614 - val_accuracy: 0.7690\n",
            "Epoch 5/9\n",
            "16/16 [==============================] - 1s 48ms/step - loss: 0.6754 - accuracy: 0.8605 - val_loss: 0.9861 - val_accuracy: 0.7930\n",
            "Epoch 6/9\n",
            "16/16 [==============================] - 1s 51ms/step - loss: 0.5446 - accuracy: 0.8863 - val_loss: 0.9609 - val_accuracy: 0.8010\n",
            "Epoch 7/9\n",
            "16/16 [==============================] - 1s 55ms/step - loss: 0.4492 - accuracy: 0.9069 - val_loss: 0.9051 - val_accuracy: 0.8110\n",
            "Epoch 8/9\n",
            "16/16 [==============================] - 1s 57ms/step - loss: 0.3597 - accuracy: 0.9264 - val_loss: 0.9121 - val_accuracy: 0.8150\n",
            "Epoch 9/9\n",
            "16/16 [==============================] - 1s 56ms/step - loss: 0.2935 - accuracy: 0.9377 - val_loss: 0.9109 - val_accuracy: 0.8040\n",
            "71/71 [==============================] - 0s 3ms/step - loss: 0.9927 - accuracy: 0.7898\n",
            "[0.9927068948745728, 0.7898486256599426]\n"
          ],
          "name": "stdout"
        }
      ]
    },
    {
      "cell_type": "markdown",
      "metadata": {
        "id": "z_3Wy4VtcuMK"
      },
      "source": [
        "在新数据上生成预测结果"
      ]
    },
    {
      "cell_type": "code",
      "metadata": {
        "colab": {
          "base_uri": "https://localhost:8080/"
        },
        "id": "202BahLWcyPp",
        "outputId": "157a88ec-cde8-44c9-d7b0-68fb90b4d199"
      },
      "source": [
        "predictions = model.predict(x_test)\n",
        "# print(predictions[0].shape) # predictions中的每个元素都是长度为46的向量\n",
        "# print(np.sum(predictions[0])) # 这个向量的所有元素总和为1\n",
        "print(np.argmax(predictions[100])) # 最大的元素为预测类别，即概率最大的类别\n",
        "\n",
        "# print(len(predictions))\n",
        "for i in range(len(predictions)):\n",
        "  print(np.argmax(predictions[i]))"
      ],
      "execution_count": 25,
      "outputs": [
        {
          "output_type": "stream",
          "text": [
            "41\n",
            "2246\n"
          ],
          "name": "stdout"
        }
      ]
    }
  ]
}