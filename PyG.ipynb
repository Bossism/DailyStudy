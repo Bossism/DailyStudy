{
  "nbformat": 4,
  "nbformat_minor": 0,
  "metadata": {
    "colab": {
      "name": "PyG.ipynb",
      "provenance": [],
      "authorship_tag": "ABX9TyPI+pMFve082K1vpwUYtAzR",
      "include_colab_link": true
    },
    "kernelspec": {
      "name": "python3",
      "display_name": "Python 3"
    },
    "language_info": {
      "name": "python"
    }
  },
  "cells": [
    {
      "cell_type": "markdown",
      "metadata": {
        "id": "view-in-github",
        "colab_type": "text"
      },
      "source": [
        "<a href=\"https://colab.research.google.com/github/Bossism/DailyStudy/blob/master/PyG.ipynb\" target=\"_parent\"><img src=\"https://colab.research.google.com/assets/colab-badge.svg\" alt=\"Open In Colab\"/></a>"
      ]
    },
    {
      "cell_type": "code",
      "metadata": {
        "id": "WnsnI6DsKg2Z"
      },
      "source": [
        "pip install torch-scatter torch-sparse torch-cluster torch-spline-conv torch-geometric -f https://data.pyg.org/whl/torch-1.10.0+cpu.html"
      ],
      "execution_count": null,
      "outputs": []
    },
    {
      "cell_type": "code",
      "metadata": {
        "colab": {
          "base_uri": "https://localhost:8080/"
        },
        "id": "zAiPKOuLKkaB",
        "outputId": "d2c06f9c-28a7-4f63-d679-d695b4b0e55b"
      },
      "source": [
        "from torch_geometric.datasets import KarateClub\n",
        "\n",
        "dataset = KarateClub()\n",
        "data = dataset[0]\n",
        "print(data)"
      ],
      "execution_count": 8,
      "outputs": [
        {
          "output_type": "stream",
          "name": "stdout",
          "text": [
            "Data(x=[34, 34], edge_index=[2, 156], y=[34], train_mask=[34])\n"
          ]
        }
      ]
    },
    {
      "cell_type": "code",
      "metadata": {
        "colab": {
          "base_uri": "https://localhost:8080/"
        },
        "id": "WqT8rL5aLTgX",
        "outputId": "c6b0eb5e-ab15-48c6-d19e-abf44120a335"
      },
      "source": [
        "print(f'Number of nodes: {data.num_nodes}') # 节点数量\n",
        "print(f'Number of edges: {data.num_edges}') # 边数量\n",
        "print(f'Number of node features: {data.num_node_features}') # 节点属性的维度\n",
        "print(f'Number of node features: {data.num_features}') # 同样是节点属性的维度\n",
        "print(f'Number of edge features: {data.num_edge_features}') # 边属性的维度\n",
        "print(f'Average node degree: {data.num_edges / data.num_nodes:.2f}') # 平均节点度\n",
        "print(f'if edge indices are ordered and do not contain duplicate entries.: {data.is_coalesced()}') # 是否边是有序的同时不含有重复的边\n",
        "print(f'Number of training nodes: {data.train_mask.sum()}') # 用作训练集的节点\n",
        "print(f'Training node label rate: {int(data.train_mask.sum()) / data.num_nodes:.2f}') # 用作训练集的节点数占比\n",
        "print(f'Contains isolated nodes:{data.contains_isolated_nodes()}') # 此图是否包含孤立的节点\n",
        "print(f'Contains self-loops: {data.contains_self_loops()}') # 此图是否包含自环的边\n",
        "print(f'Is undirected: {data.is_undirected()}') # 此图是否是无向图"
      ],
      "execution_count": 10,
      "outputs": [
        {
          "output_type": "stream",
          "name": "stdout",
          "text": [
            "Number of nodes: 34\n",
            "Number of edges: 156\n",
            "Number of node features: 34\n",
            "Number of node features: 34\n",
            "Number of edge features: 0\n",
            "Average node degree: 4.59\n",
            "if edge indices are ordered and do not contain duplicate entries.: True\n",
            "Number of training nodes: 4\n",
            "Training node label rate: 0.12\n",
            "Contains isolated nodes:False\n",
            "Contains self-loops: False\n",
            "Is undirected: True\n"
          ]
        },
        {
          "output_type": "stream",
          "name": "stderr",
          "text": [
            "/usr/local/lib/python3.7/dist-packages/torch_geometric/deprecation.py:13: UserWarning: 'contains_isolated_nodes' is deprecated, use 'has_isolated_nodes' instead\n",
            "  warnings.warn(out)\n",
            "/usr/local/lib/python3.7/dist-packages/torch_geometric/deprecation.py:13: UserWarning: 'contains_self_loops' is deprecated, use 'has_self_loops' instead\n",
            "  warnings.warn(out)\n"
          ]
        }
      ]
    },
    {
      "cell_type": "code",
      "metadata": {
        "colab": {
          "base_uri": "https://localhost:8080/"
        },
        "id": "CePCyi84L1L3",
        "outputId": "f5e4efb9-2e6d-4eb7-ee38-72a867954cfc"
      },
      "source": [
        "from torch_geometric.datasets import Planetoid\n",
        "\n",
        "dataset = Planetoid(root='./', name='Cora')\n",
        "print(len(dataset))\n",
        "print(dataset.num_classes)\n",
        "print(dataset.num_node_features)"
      ],
      "execution_count": 14,
      "outputs": [
        {
          "output_type": "stream",
          "name": "stderr",
          "text": [
            "Downloading https://github.com/kimiyoung/planetoid/raw/master/data/ind.cora.x\n",
            "Downloading https://github.com/kimiyoung/planetoid/raw/master/data/ind.cora.tx\n",
            "Downloading https://github.com/kimiyoung/planetoid/raw/master/data/ind.cora.allx\n",
            "Downloading https://github.com/kimiyoung/planetoid/raw/master/data/ind.cora.y\n",
            "Downloading https://github.com/kimiyoung/planetoid/raw/master/data/ind.cora.ty\n",
            "Downloading https://github.com/kimiyoung/planetoid/raw/master/data/ind.cora.ally\n",
            "Downloading https://github.com/kimiyoung/planetoid/raw/master/data/ind.cora.graph\n",
            "Downloading https://github.com/kimiyoung/planetoid/raw/master/data/ind.cora.test.index\n"
          ]
        },
        {
          "output_type": "stream",
          "name": "stdout",
          "text": [
            "1\n",
            "7\n",
            "1433\n"
          ]
        },
        {
          "output_type": "stream",
          "name": "stderr",
          "text": [
            "Processing...\n",
            "Done!\n"
          ]
        }
      ]
    },
    {
      "cell_type": "code",
      "metadata": {
        "id": "ZPlBASzTN9_c"
      },
      "source": [
        "# Data类的构造函数：\n",
        "class Data(object):\n",
        "    def __init__(self, x=None, edge_index=None, edge_attr=None, y=None, **kwargs):\n",
        "        r\"\"\"\n",
        "        Args:\n",
        "            x (Tensor, optional): 节点属性矩阵，大小为`[num_nodes, num_node_features]`\n",
        "            edge_index (LongTensor, optional): 边索引矩阵，大小为`[2, num_edges]`，第0行为尾节点，第1行为头节点，头指向尾\n",
        "            edge_attr (Tensor, optional): 边属性矩阵，大小为`[num_edges, num_edge_features]`\n",
        "            y (Tensor, optional): 节点或图的标签，任意大小（，其实也可以是边的标签）\n",
        "        \"\"\"\n",
        "        self.x = x\n",
        "        self.edge_index = edge_index\n",
        "        self.edge_attr = edge_attr\n",
        "        self.y = y\n",
        "\n",
        "        for key, item in kwargs.items():\n",
        "            if key == 'num_nodes':\n",
        "                self.__num_nodes__ = item\n",
        "            else:\n",
        "                self[key] = item"
      ],
      "execution_count": null,
      "outputs": []
    },
    {
      "cell_type": "code",
      "metadata": {
        "id": "-gwFe1ZNNaNw"
      },
      "source": [
        "# Data类的构造函数：\n",
        "'''\n",
        "【OAP，机构-作者-论文】\n",
        "O-Orginazation,机构；\n",
        "A-Author,作者；\n",
        "P-Paper,论文\n",
        "'''\n",
        "class OAP_Data(object):\n",
        "    def __init__(self, x_O=None, x_A=None, x_P=None, edge_index_A_O=None, edge_index_A_P=None, edge_attr_A_O=None, edge_attr_A_P=None, y=None, **kwargs):\n",
        "        r\"\"\"\n",
        "        Args:\n",
        "            x_O (Tensor, optional): 节点属性矩阵，大小为`[num_nodes_O, num_node_O_features]`\n",
        "            x_A (Tensor, optional): 节点属性矩阵，大小为`[num_nodes_A, num_node_A_features]`\n",
        "            x_P (Tensor, optional): 节点属性矩阵，大小为`[num_nodes_P, num_node_P_features]`\n",
        "            edge_index_A_O (LongTensor, optional): 边索引矩阵，大小为`[2, num_edges_A_O]`，第0行为尾节点，第1行为头节点，头指向尾\n",
        "            edge_index_A_P (LongTensor, optional): 边索引矩阵，大小为`[2, num_edges_A_P]`，第0行为尾节点，第1行为头节点，头指向尾    \n",
        "            edge_attr_A_O (Tensor, optional): 边属性矩阵，大小为`[num_edges_A_O, 1]`  # 边没有属性，故列为1\n",
        "            edge_attr_A_P (Tensor, optional): 边属性矩阵，大小为`[num_edges_A_P, 1]`  # 边没有属性，故列为1\n",
        "            y (Tensor, optional): 节点或图的标签，任意大小（也可以是边的标签）\n",
        "        \"\"\"\n",
        "        self.x_O = x_O  # 机构类节点\n",
        "        self.x_A = x_A  # 作者类节点\n",
        "        self.x_P = x_P  # 论文类节点\n",
        "        self.edge_index_A_O = edge_index_A_O  # 作者-机构边的序号\n",
        "        self.edge_index_A_P = edge_index_A_P  # 作者-论文边的序号\n",
        "        # 边没有属性\n",
        "        self.edge_attr_A_O = edge_attr_A_O  # 作者-机构边的属性\n",
        "        self.edge_attr_A_P = edge_attr_A_P  # 作者-论文边的属性\n",
        "        self.y = y  # 标签\n",
        "    \n",
        "    # 实例方法            \n",
        "    def num_nodes_O(self):\n",
        "        return self.x_O.shape[0]   # 机构节点数量\n",
        "    \n",
        "    def num_nodes_A(self):\n",
        "        return self.x_A.shape[0]   # 作者节点数量\n",
        "        \n",
        "    def num_nodes_P(self):\n",
        "        return self.x_P.shape[0]   # 论文节点数量\n",
        "    \n",
        "    def num_edges_A_O(self):\n",
        "        return self.edge_index_A_O.shape[1]   # 作者-机构边数量\n",
        "    \n",
        "    def num_edges_A_P(self):\n",
        "        return self.edge_index_A_P.shape[1]   # 作者-论文边数量\n",
        "                \n",
        "    @classmethod\n",
        "    def from_dict(cls, dictionary):\n",
        "        r\"\"\"Creates a data object from a python dictionary.\"\"\"\n",
        "        data = cls()\n",
        "        for key, item in dictionary.items():\n",
        "            data[key] = item\n",
        "\n",
        "        return data"
      ],
      "execution_count": null,
      "outputs": []
    },
    {
      "cell_type": "code",
      "metadata": {
        "id": "VcXa_8dnNr2E"
      },
      "source": [
        "# 输入原始数据    \n",
        "OAP_graph_dict = {\n",
        "    'x_O': x_O,\n",
        "    'x_A': x_A,\n",
        "    'x_P': x_P,\n",
        "    'edge_index_A_O': edge_index_A_O,\n",
        "    'edge_index_A_P': edge_index_A_P,\n",
        "    'edge_attr_A_O': edge_attr_A_O,\n",
        "    'edge_attr_A_P': edge_attr_A_P,\n",
        "    'y': y,\n",
        "    'other_attr': other_attr\n",
        "}\n",
        "\n",
        "# 转dict对象为Data对象\n",
        "OAP_graph_data = OAP_Data.from_dict(OAP_graph_dict)\n",
        "\n",
        "# 获取OAP图上不同节点、不同边的数量\n",
        "print(f'Number of orginazation nodes：{OAP_graph_data.num_nodes_O}') # 节点数量\n",
        "print(f'Number of author nodes：{OAP_graph_data.num_nodes_A}') # 机构数量\n",
        "print(f'Number of paper nodes：{OAP_graph_data.num_nodes_P}') # 论文数量\n",
        "print(f'Number of author-orginazation edges：{OAP_graph_data.num_edges_A_O}') # 作者-机构边数量\n",
        "print(f'Number of author-paper edges： {OAP_graph_data.num_edges_A_P}') # 作者-论文边数量"
      ],
      "execution_count": null,
      "outputs": []
    }
  ]
}