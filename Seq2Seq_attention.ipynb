{
  "nbformat": 4,
  "nbformat_minor": 0,
  "metadata": {
    "colab": {
      "name": "Seq2Seq_attention.ipynb",
      "provenance": [],
      "collapsed_sections": [],
      "authorship_tag": "ABX9TyPQQcYrCQA2x+I7OsB2XXvP",
      "include_colab_link": true
    },
    "kernelspec": {
      "name": "python3",
      "display_name": "Python 3"
    },
    "language_info": {
      "name": "python"
    }
  },
  "cells": [
    {
      "cell_type": "markdown",
      "metadata": {
        "id": "view-in-github",
        "colab_type": "text"
      },
      "source": [
        "<a href=\"https://colab.research.google.com/github/Bossism/DailyStudy/blob/master/Seq2Seq_attention.ipynb\" target=\"_parent\"><img src=\"https://colab.research.google.com/assets/colab-badge.svg\" alt=\"Open In Colab\"/></a>"
      ]
    },
    {
      "cell_type": "code",
      "metadata": {
        "colab": {
          "base_uri": "https://localhost:8080/"
        },
        "id": "chwoz3CJKY8D",
        "outputId": "4b6a5baa-d9f2-4996-8822-a29d16070105"
      },
      "source": [
        "!pip3 install tensorflow_addons"
      ],
      "execution_count": 2,
      "outputs": [
        {
          "output_type": "stream",
          "text": [
            "Collecting tensorflow_addons\n",
            "\u001b[?25l  Downloading https://files.pythonhosted.org/packages/66/4b/e893d194e626c24b3df2253066aa418f46a432fdb68250cde14bf9bb0700/tensorflow_addons-0.13.0-cp37-cp37m-manylinux2010_x86_64.whl (679kB)\n",
            "\u001b[K     |████████████████████████████████| 686kB 2.8MB/s \n",
            "\u001b[?25hRequirement already satisfied: typeguard>=2.7 in /usr/local/lib/python3.7/dist-packages (from tensorflow_addons) (2.7.1)\n",
            "Installing collected packages: tensorflow-addons\n",
            "Successfully installed tensorflow-addons-0.13.0\n"
          ],
          "name": "stdout"
        }
      ]
    },
    {
      "cell_type": "code",
      "metadata": {
        "colab": {
          "base_uri": "https://localhost:8080/"
        },
        "id": "aqPVuS3uTStP",
        "outputId": "3cc15c25-d3cc-4515-a0c1-e7b3c7c7e4c8"
      },
      "source": [
        "!touch ./visual/tmp/attention_align.pkl"
      ],
      "execution_count": 14,
      "outputs": [
        {
          "output_type": "stream",
          "text": [
            "touch: cannot touch './visual/tmp/attention_align.pkl': No such file or directory\n"
          ],
          "name": "stdout"
        }
      ]
    },
    {
      "cell_type": "code",
      "metadata": {
        "colab": {
          "base_uri": "https://localhost:8080/"
        },
        "id": "HiMkwjiiTiF_",
        "outputId": "ae376a9b-fba8-455f-dc57-0ce1b38e1f50"
      },
      "source": [
        "!ls"
      ],
      "execution_count": 15,
      "outputs": [
        {
          "output_type": "stream",
          "text": [
            "__pycache__  sample_data  utils.py  visual\n"
          ],
          "name": "stdout"
        }
      ]
    },
    {
      "cell_type": "code",
      "metadata": {
        "id": "IQioFc64SbZQ"
      },
      "source": [
        "import matplotlib.pyplot as plt\n",
        "import numpy as np\n",
        "import pickle\n",
        "from matplotlib.pyplot import cm\n",
        "import os\n",
        "import utils\n",
        "\n",
        "def seq2seq_attention():\n",
        "    with open(\"./visual/tmp/attention_align.pkl\", \"rb\") as f:\n",
        "        data = pickle.load(f)\n",
        "    i2v, x, y, align = data[\"i2v\"], data[\"x\"], data[\"y\"], data[\"align\"]\n",
        "    plt.rcParams['xtick.bottom'] = plt.rcParams['xtick.labelbottom'] = False\n",
        "    plt.rcParams['xtick.top'] = plt.rcParams['xtick.labeltop'] = True\n",
        "    for i in range(6):\n",
        "        plt.subplot(2, 3, i + 1)\n",
        "        x_vocab = [i2v[j] for j in np.ravel(x[i])]\n",
        "        y_vocab = [i2v[j] for j in y[i, 1:]]\n",
        "        plt.imshow(align[i], cmap=\"YlGn\", vmin=0., vmax=1.)\n",
        "        plt.yticks([j for j in range(len(y_vocab))], y_vocab)\n",
        "        plt.xticks([j for j in range(len(x_vocab))], x_vocab)\n",
        "        if i == 0 or i == 3:\n",
        "            plt.ylabel(\"Output\")\n",
        "        if i >= 3:\n",
        "            plt.xlabel(\"Input\")\n",
        "    plt.tight_layout()\n",
        "    plt.savefig(\"./visual/results/seq2seq_attention.png\", format=\"png\", dpi=200)\n",
        "    plt.show()"
      ],
      "execution_count": 21,
      "outputs": []
    },
    {
      "cell_type": "code",
      "metadata": {
        "colab": {
          "base_uri": "https://localhost:8080/",
          "height": 737
        },
        "id": "Z_ReKjHPJ97Y",
        "outputId": "0ca6ec9c-375b-4f1e-8575-514b85fad704"
      },
      "source": [
        "import tensorflow as tf\n",
        "from tensorflow import keras\n",
        "import numpy as np\n",
        "import utils    # this refers to utils.py in my [repo](https://github.com/MorvanZhou/NLP-Tutorials/)\n",
        "import tensorflow_addons as tfa\n",
        "import pickle\n",
        "\n",
        "\n",
        "class Seq2Seq(keras.Model):\n",
        "    def __init__(self, enc_v_dim, dec_v_dim, emb_dim, units, attention_layer_size, max_pred_len, start_token, end_token):\n",
        "        super().__init__()\n",
        "        self.units = units\n",
        "\n",
        "        # encoder\n",
        "        self.enc_embeddings = keras.layers.Embedding(\n",
        "            input_dim=enc_v_dim, output_dim=emb_dim,    # [enc_n_vocab, emb_dim]\n",
        "            embeddings_initializer=tf.initializers.RandomNormal(0., 0.1),\n",
        "        )\n",
        "        self.encoder = keras.layers.LSTM(units=units, return_sequences=True, return_state=True)\n",
        "\n",
        "        # decoder\n",
        "        self.attention = tfa.seq2seq.LuongAttention(units, memory=None, memory_sequence_length=None)\n",
        "        self.decoder_cell = tfa.seq2seq.AttentionWrapper(\n",
        "            cell=keras.layers.LSTMCell(units=units),\n",
        "            attention_mechanism=self.attention,\n",
        "            attention_layer_size=attention_layer_size,\n",
        "            alignment_history=True,                     # for attention visualization\n",
        "        )\n",
        "\n",
        "        self.dec_embeddings = keras.layers.Embedding(\n",
        "            input_dim=dec_v_dim, output_dim=emb_dim,    # [dec_n_vocab, emb_dim]\n",
        "            embeddings_initializer=tf.initializers.RandomNormal(0., 0.1),\n",
        "        )\n",
        "        decoder_dense = keras.layers.Dense(dec_v_dim)   # output layer\n",
        "\n",
        "        # train decoder\n",
        "        self.decoder_train = tfa.seq2seq.BasicDecoder(\n",
        "            cell=self.decoder_cell,\n",
        "            sampler=tfa.seq2seq.sampler.TrainingSampler(),   # sampler for train\n",
        "            output_layer=decoder_dense\n",
        "        )\n",
        "        self.cross_entropy = keras.losses.SparseCategoricalCrossentropy(from_logits=True)\n",
        "        self.opt = keras.optimizers.Adam(0.05, clipnorm=5.0)\n",
        "\n",
        "        # predict decoder\n",
        "        self.decoder_eval = tfa.seq2seq.BasicDecoder(\n",
        "            cell=self.decoder_cell,\n",
        "            sampler=tfa.seq2seq.sampler.GreedyEmbeddingSampler(),       # sampler for predict\n",
        "            output_layer=decoder_dense\n",
        "        )\n",
        "\n",
        "        # prediction restriction\n",
        "        self.max_pred_len = max_pred_len\n",
        "        self.start_token = start_token\n",
        "        self.end_token = end_token\n",
        "\n",
        "    def encode(self, x):\n",
        "        o = self.enc_embeddings(x)\n",
        "        init_s = [tf.zeros((x.shape[0], self.units)), tf.zeros((x.shape[0], self.units))]\n",
        "        o, h, c = self.encoder(o, initial_state=init_s)\n",
        "        return o, h, c\n",
        "\n",
        "    def set_attention(self, x):\n",
        "        o, h, c = self.encode(x)\n",
        "        # encoder output for attention to focus\n",
        "        self.attention.setup_memory(o)\n",
        "        # wrap state by attention wrapper\n",
        "        s = self.decoder_cell.get_initial_state(batch_size=x.shape[0], dtype=tf.float32).clone(cell_state=[h, c])\n",
        "        return s\n",
        "\n",
        "    def inference(self, x, return_align=False):\n",
        "        s = self.set_attention(x)\n",
        "        done, i, s = self.decoder_eval.initialize(\n",
        "            self.dec_embeddings.variables[0],\n",
        "            start_tokens=tf.fill([x.shape[0], ], self.start_token),\n",
        "            end_token=self.end_token,\n",
        "            initial_state=s,\n",
        "        )\n",
        "        pred_id = np.zeros((x.shape[0], self.max_pred_len), dtype=np.int32)\n",
        "        for l in range(self.max_pred_len):\n",
        "            o, s, i, done = self.decoder_eval.step(\n",
        "                time=l, inputs=i, state=s, training=False)\n",
        "            pred_id[:, l] = o.sample_id\n",
        "        if return_align:\n",
        "            return np.transpose(s.alignment_history.stack().numpy(), (1, 0, 2))\n",
        "        else:\n",
        "            s.alignment_history.mark_used()  # otherwise gives warning\n",
        "            return pred_id\n",
        "\n",
        "    def train_logits(self, x, y, seq_len):\n",
        "        s = self.set_attention(x)\n",
        "        dec_in = y[:, :-1]   # ignore <EOS>\n",
        "        dec_emb_in = self.dec_embeddings(dec_in)\n",
        "        o, _, _ = self.decoder_train(dec_emb_in, s, sequence_length=seq_len)\n",
        "        logits = o.rnn_output\n",
        "        return logits\n",
        "\n",
        "    def step(self, x, y, seq_len):\n",
        "        with tf.GradientTape() as tape:\n",
        "            logits = self.train_logits(x, y, seq_len)\n",
        "            dec_out = y[:, 1:]  # ignore <GO>\n",
        "            loss = self.cross_entropy(dec_out, logits)\n",
        "            grads = tape.gradient(loss, self.trainable_variables)\n",
        "        self.opt.apply_gradients(zip(grads, self.trainable_variables))\n",
        "        return loss.numpy()\n",
        "\n",
        "\n",
        "def train():\n",
        "    # get and process data\n",
        "    data = utils.DateData(2000)\n",
        "    print(\"Chinese time order: yy/mm/dd \", data.date_cn[:3], \"\\nEnglish time order: dd/M/yyyy \", data.date_en[:3])\n",
        "    print(\"vocabularies: \", data.vocab)\n",
        "    print(\"x index sample: \\n{}\\n{}\".format(data.idx2str(data.x[0]), data.x[0]),\n",
        "          \"\\ny index sample: \\n{}\\n{}\".format(data.idx2str(data.y[0]), data.y[0]))\n",
        "\n",
        "    model = Seq2Seq(\n",
        "        data.num_word, data.num_word, emb_dim=12, units=14, attention_layer_size=16,\n",
        "        max_pred_len=11, start_token=data.start_token, end_token=data.end_token)\n",
        "\n",
        "    # training\n",
        "    for t in range(1000):\n",
        "        bx, by, decoder_len = data.sample(64)\n",
        "        loss = model.step(bx, by, decoder_len)\n",
        "        if t % 70 == 0:\n",
        "            target = data.idx2str(by[0, 1:-1])\n",
        "            pred = model.inference(bx[0:1])\n",
        "            res = data.idx2str(pred[0])\n",
        "            src = data.idx2str(bx[0])\n",
        "            print(\n",
        "                \"t: \", t,\n",
        "                \"| loss: %.5f\" % loss,\n",
        "                \"| input: \", src,\n",
        "                \"| target: \", target,\n",
        "                \"| inference: \", res,\n",
        "            )\n",
        "    seq2seq_attention()\n",
        "    pkl_data = {\"i2v\": data.i2v, \"x\": data.x[:6], \"y\": data.y[:6], \"align\": model.inference(data.x[:6], return_align=True)}\n",
        "\n",
        "    with open(\"./visual/tmp/attention_align.pkl\", \"wb\") as f:\n",
        "        pickle.dump(pkl_data, f)\n",
        "\n",
        "\n",
        "if __name__ == \"__main__\":\n",
        "    train()"
      ],
      "execution_count": 24,
      "outputs": [
        {
          "output_type": "stream",
          "text": [
            "Chinese time order: yy/mm/dd  ['31-04-26', '04-07-18', '33-06-06'] \n",
            "English time order: dd/M/yyyy  ['26/Apr/2031', '18/Jul/2004', '06/Jun/2033']\n",
            "vocabularies:  {'8', 'Apr', 'Feb', 'Jun', '3', '<GO>', '-', '4', '<EOS>', 'Aug', '1', '<PAD>', 'May', '5', 'Jan', '2', '9', '0', 'Nov', 'Sep', '/', 'Oct', 'Mar', 'Jul', 'Dec', '6', '7'}\n",
            "x index sample: \n",
            "31-04-26\n",
            "[6 4 1 3 7 1 5 9] \n",
            "y index sample: \n",
            "<GO>26/Apr/2031<EOS>\n",
            "[14  5  9  2 15  2  5  3  6  4 13]\n",
            "t:  0 | loss: 3.30062 | input:  89-05-25 | target:  25/May/1989 | inference:  99999999999\n",
            "t:  70 | loss: 0.17514 | input:  03-09-13 | target:  13/Sep/2003 | inference:  13/Feb/2003<EOS>\n",
            "t:  140 | loss: 0.00085 | input:  92-06-01 | target:  01/Jun/1992 | inference:  01/Jun/1992<EOS>\n",
            "t:  210 | loss: 0.00031 | input:  23-01-28 | target:  28/Jan/2023 | inference:  28/Jan/2023<EOS>\n",
            "t:  280 | loss: 0.00022 | input:  25-08-01 | target:  01/Aug/2025 | inference:  01/Aug/2025<EOS>\n",
            "t:  350 | loss: 0.00015 | input:  75-04-21 | target:  21/Apr/1975 | inference:  21/Apr/1975<EOS>\n",
            "t:  420 | loss: 0.00013 | input:  13-06-04 | target:  04/Jun/2013 | inference:  04/Jun/2013<EOS>\n",
            "t:  490 | loss: 0.00011 | input:  06-10-15 | target:  15/Oct/2006 | inference:  15/Oct/2006<EOS>\n",
            "t:  560 | loss: 0.00007 | input:  08-05-28 | target:  28/May/2008 | inference:  28/May/2008<EOS>\n",
            "t:  630 | loss: 0.00007 | input:  78-02-15 | target:  15/Feb/1978 | inference:  15/Feb/1978<EOS>\n",
            "t:  700 | loss: 0.00006 | input:  34-08-03 | target:  03/Aug/2034 | inference:  03/Aug/2034<EOS>\n",
            "t:  770 | loss: 0.00005 | input:  75-04-10 | target:  10/Apr/1975 | inference:  10/Apr/1975<EOS>\n",
            "t:  840 | loss: 0.00004 | input:  86-06-28 | target:  28/Jun/1986 | inference:  28/Jun/1986<EOS>\n",
            "t:  910 | loss: 0.00004 | input:  11-09-12 | target:  12/Sep/2011 | inference:  12/Sep/2011<EOS>\n",
            "t:  980 | loss: 0.00003 | input:  06-08-09 | target:  09/Aug/2006 | inference:  09/Aug/2006<EOS>\n"
          ],
          "name": "stdout"
        },
        {
          "output_type": "display_data",
          "data": {
            "image/png": "[encoded data removed]",
            "text/plain": [
              "<Figure size 432x288 with 6 Axes>"
            ]
          },
          "metadata": {
            "tags": [],
            "needs_background": "light"
          }
        }
      ]
    }
  ]
}