{
  "nbformat": 4,
  "nbformat_minor": 5,
  "metadata": {
    "kernelspec": {
      "display_name": "Python [conda env:smp]",
      "language": "python",
      "name": "lijiaqi"
    },
    "language_info": {
      "codemirror_mode": {
        "name": "ipython",
        "version": 3
      },
      "file_extension": ".py",
      "mimetype": "text/x-python",
      "name": "python",
      "nbconvert_exporter": "python",
      "pygments_lexer": "ipython3",
      "version": "3.8.11"
    },
    "colab": {
      "name": "基础实战——FashionMNIST时装分类.ipynb",
      "provenance": []
    },
    "accelerator": "GPU"
  },
  "cells": [
    {
      "cell_type": "markdown",
      "metadata": {
        "id": "vanilla-progress"
      },
      "source": [
        "# 第四章 基础实战——FashionMNIST时装分类"
      ],
      "id": "vanilla-progress"
    },
    {
      "cell_type": "markdown",
      "metadata": {
        "id": "metallic-oxford"
      },
      "source": [
        "<img src=\"https://github.com/datawhalechina/thorough-pytorch/blob/main/%E7%AC%AC%E5%9B%9B%E7%AB%A0%20PyTorch%E5%9F%BA%E7%A1%80%E5%AE%9E%E6%88%98/fashion-mnist-sprite.png?raw=1\" width=\"400\" />  \n",
        "  \n",
        "经过前面三章内容的学习，我们完成了以下的内容：  \n",
        "- 对PyTorch有了初步的认识\n",
        "- 学会了如何安装PyTorch以及对应的编程环境\n",
        "- 学习了PyTorch最核心的理论基础（张量&自动求导）\n",
        "- 梳理了利用PyTorch完成深度学习的主要步骤和对应实现方式  \n",
        "  \n",
        "现在，我们通过一个基础实战案例，将第一部分所涉及的PyTorch入门知识串起来，便于大家加深理解。同时为后续的进阶学习打好基础。 \n",
        "  \n",
        "我们这里的任务是对10个类别的“时装”图像进行分类，使用FashionMNIST数据集（https://github.com/zalandoresearch/fashion-mnist/tree/master/data/fashion ）。上图给出了FashionMNIST中数据的若干样例图，其中每个小图对应一个样本。  \n",
        "FashionMNIST数据集中包含已经预先划分好的训练集和测试集，其中训练集共60,000张图像，测试集共10,000张图像。每张图像均为单通道黑白图像，大小为32\\*32pixel，分属10个类别。  \n",
        "  \n",
        "下面让我们一起将第三章各部分内容逐步实现，来跑完整个深度学习流程。"
      ],
      "id": "metallic-oxford"
    },
    {
      "cell_type": "markdown",
      "metadata": {
        "id": "finished-scottish"
      },
      "source": [
        "**首先导入必要的包**  "
      ],
      "id": "finished-scottish"
    },
    {
      "cell_type": "code",
      "metadata": {
        "id": "involved-milwaukee"
      },
      "source": [
        "import os\n",
        "import numpy as np\n",
        "import pandas as pd\n",
        "import torch\n",
        "import torch.nn as nn\n",
        "import torch.optim as optim\n",
        "from torch.utils.data import Dataset, DataLoader"
      ],
      "id": "involved-milwaukee",
      "execution_count": 13,
      "outputs": []
    },
    {
      "cell_type": "markdown",
      "metadata": {
        "id": "industrial-orange"
      },
      "source": [
        "**配置训练环境和超参数**  \n"
      ],
      "id": "industrial-orange"
    },
    {
      "cell_type": "code",
      "metadata": {
        "id": "quarterly-hypothetical"
      },
      "source": [
        "# 配置GPU，这里有两种方式\n",
        "## 方案一：使用os.environ\n",
        "os.environ['CUDA_VISIBLE_DEVICES'] = '0'\n",
        "# 方案二：使用“device”，后续对要使用GPU的变量用.to(device)即可\n",
        "device = torch.device(\"cuda:1\" if torch.cuda.is_available() else \"cpu\")\n",
        "\n",
        "## 配置其他超参数，如batch_size, num_workers, learning rate, 以及总的epochs\n",
        "batch_size = 256\n",
        "num_workers = 4\n",
        "lr = 1e-4\n",
        "epochs = 20"
      ],
      "id": "quarterly-hypothetical",
      "execution_count": 14,
      "outputs": []
    },
    {
      "cell_type": "markdown",
      "metadata": {
        "id": "apparent-reception"
      },
      "source": [
        "**数据读入和加载**  \n",
        "这里同时展示两种方式:  \n",
        "- 下载并使用PyTorch提供的内置数据集  \n",
        "- 从网站下载以csv格式存储的数据，读入并转成预期的格式    \n",
        "第一种数据读入方式只适用于常见的数据集，如MNIST，CIFAR10等，PyTorch官方提供了数据下载。这种方式往往适用于快速测试方法（比如测试下某个idea在MNIST数据集上是否有效）  \n",
        "第二种数据读入方式需要自己构建Dataset，这对于PyTorch应用于自己的工作中十分重要  \n",
        "  \n",
        "同时，还需要对数据进行必要的变换，比如说需要将图片统一为一致的大小，以便后续能够输入网络训练；需要将数据格式转为Tensor类，等等。\n",
        "  \n",
        "这些变换可以很方便地借助torchvision包来完成，这是PyTorch官方用于图像处理的工具库，上面提到的使用内置数据集的方式也要用到。PyTorch的一大方便之处就在于它是一整套“生态”，有着官方和第三方各个领域的支持。这些内容我们会在后续课程中详细介绍。"
      ],
      "id": "apparent-reception"
    },
    {
      "cell_type": "code",
      "metadata": {
        "id": "frank-punishment"
      },
      "source": [
        "# 首先设置数据变换\n",
        "from torchvision import transforms\n",
        "\n",
        "image_size = 28\n",
        "data_transform = transforms.Compose([\n",
        "    # transforms.ToTensor(),   # 这一步取决于后续的数据读取方式，如果使用内置数据集则不需要\n",
        "    transforms.Resize(image_size),\n",
        "    transforms.ToTensor()\n",
        "])"
      ],
      "id": "frank-punishment",
      "execution_count": 15,
      "outputs": []
    },
    {
      "cell_type": "code",
      "metadata": {
        "scrolled": true,
        "id": "canadian-temple"
      },
      "source": [
        "## 读取方式一：使用torchvision自带数据集，下载可能需要一段时间\n",
        "from torchvision import datasets\n",
        "\n",
        "train_data = datasets.FashionMNIST(root='./', train=True, download=True, transform=data_transform)\n",
        "test_data = datasets.FashionMNIST(root='./', train=False, download=True, transform=data_transform)"
      ],
      "id": "canadian-temple",
      "execution_count": 16,
      "outputs": []
    },
    {
      "cell_type": "markdown",
      "metadata": {
        "id": "handmade-samba"
      },
      "source": [
        "在构建训练和测试数据集完成后，需要定义DataLoader类，以便在训练和测试时加载数据  \n"
      ],
      "id": "handmade-samba"
    },
    {
      "cell_type": "code",
      "metadata": {
        "id": "mobile-training",
        "outputId": "130c5ecc-e8ed-4d36-b5e4-455e7b4476ca",
        "colab": {
          "base_uri": "https://localhost:8080/"
        }
      },
      "source": [
        "train_loader = DataLoader(train_data, batch_size=batch_size, shuffle=True, num_workers=num_workers, drop_last=True)\n",
        "test_loader = DataLoader(test_data, batch_size=batch_size, shuffle=False, num_workers=num_workers)"
      ],
      "id": "mobile-training",
      "execution_count": 5,
      "outputs": [
        {
          "output_type": "stream",
          "name": "stderr",
          "text": [
            "/usr/local/lib/python3.7/dist-packages/torch/utils/data/dataloader.py:481: UserWarning: This DataLoader will create 4 worker processes in total. Our suggested max number of worker in current system is 2, which is smaller than what this DataLoader is going to create. Please be aware that excessive worker creation might get DataLoader running slow or even freeze, lower the worker number to avoid potential slowness/freeze if necessary.\n",
            "  cpuset_checked))\n"
          ]
        }
      ]
    },
    {
      "cell_type": "markdown",
      "metadata": {
        "id": "elder-hardware"
      },
      "source": [
        "读入后，我们可以做一些数据可视化操作，主要是验证我们读入的数据是否正确"
      ],
      "id": "elder-hardware"
    },
    {
      "cell_type": "code",
      "metadata": {
        "scrolled": true,
        "id": "accurate-butterfly",
        "outputId": "6664691b-49ee-4e27-a875-25bc5a06b092",
        "colab": {
          "base_uri": "https://localhost:8080/",
          "height": 352
        }
      },
      "source": [
        "import matplotlib.pyplot as plt\n",
        "image, label = next(iter(train_loader))\n",
        "print(image.shape, label.shape)\n",
        "plt.imshow(image[0][0], cmap=\"gray\")"
      ],
      "id": "accurate-butterfly",
      "execution_count": 17,
      "outputs": [
        {
          "output_type": "stream",
          "name": "stderr",
          "text": [
            "/usr/local/lib/python3.7/dist-packages/torch/utils/data/dataloader.py:481: UserWarning: This DataLoader will create 4 worker processes in total. Our suggested max number of worker in current system is 2, which is smaller than what this DataLoader is going to create. Please be aware that excessive worker creation might get DataLoader running slow or even freeze, lower the worker number to avoid potential slowness/freeze if necessary.\n",
            "  cpuset_checked))\n"
          ]
        },
        {
          "output_type": "stream",
          "name": "stdout",
          "text": [
            "torch.Size([256, 1, 28, 28]) torch.Size([256])\n"
          ]
        },
        {
          "output_type": "execute_result",
          "data": {
            "text/plain": [
              "<matplotlib.image.AxesImage at 0x7f3b10c35dd0>"
            ]
          },
          "metadata": {},
          "execution_count": 17
        },
        {
          "output_type": "display_data",
          "data": {
            "image/png": "[encoded data removed]",
            "text/plain": [
              "<Figure size 432x288 with 1 Axes>"
            ]
          },
          "metadata": {
            "needs_background": "light"
          }
        }
      ]
    },
    {
      "cell_type": "markdown",
      "metadata": {
        "id": "executive-graduate"
      },
      "source": [
        "**模型设计**  \n",
        "由于任务较为简单，这里我们手搭一个CNN，而不考虑当下各种模型的复杂结构  \n",
        "模型构建完成后，将模型放到GPU上用于训练  \n"
      ],
      "id": "executive-graduate"
    },
    {
      "cell_type": "code",
      "metadata": {
        "id": "powered-mount"
      },
      "source": [
        "class Net(nn.Module):\n",
        "    def __init__(self):\n",
        "        super(Net, self).__init__()\n",
        "        self.conv = nn.Sequential(\n",
        "            nn.Conv2d(1, 32, 5),\n",
        "            nn.ReLU(),\n",
        "            nn.MaxPool2d(2, stride=2),\n",
        "            nn.Dropout(0.3),\n",
        "            nn.Conv2d(32, 64, 5),\n",
        "            nn.ReLU(),\n",
        "            nn.MaxPool2d(2, stride=2),\n",
        "            nn.Dropout(0.3)\n",
        "        )\n",
        "        self.fc = nn.Sequential(\n",
        "            nn.Linear(64*4*4, 512),\n",
        "            nn.ReLU(),\n",
        "            nn.Linear(512, 10)\n",
        "        )\n",
        "        \n",
        "    def forward(self, x):\n",
        "        x = self.conv(x)\n",
        "        x = x.view(-1, 64*4*4)\n",
        "        x = self.fc(x)\n",
        "        # x = nn.functional.normalize(x)\n",
        "        return x\n",
        "\n",
        "model = Net()\n",
        "model = model.cuda()\n",
        "# model = nn.DataParallel(model).cuda()   # 多卡训练时的写法，之后的课程中会进一步讲解"
      ],
      "id": "powered-mount",
      "execution_count": 18,
      "outputs": []
    },
    {
      "cell_type": "markdown",
      "metadata": {
        "id": "sporting-spouse"
      },
      "source": [
        "**设定损失函数**  \n",
        "使用torch.nn模块自带的CrossEntropy损失  \n",
        "PyTorch会自动把整数型的label转为one-hot型，用于计算CE loss  \n",
        "这里需要确保label是从0开始的，同时模型不加softmax层（使用logits计算）,这也说明了PyTorch训练中各个部分不是独立的，需要通盘考虑"
      ],
      "id": "sporting-spouse"
    },
    {
      "cell_type": "code",
      "metadata": {
        "id": "front-translation"
      },
      "source": [
        "criterion = nn.CrossEntropyLoss()\n",
        "# criterion = nn.CrossEntropyLoss(weight=[1,1,1,1,3,1,1,1,1,1])"
      ],
      "id": "front-translation",
      "execution_count": 19,
      "outputs": []
    },
    {
      "cell_type": "code",
      "metadata": {
        "id": "small-thermal"
      },
      "source": [
        "?nn.CrossEntropyLoss # 这里方便看一下weighting等策略"
      ],
      "id": "small-thermal",
      "execution_count": 34,
      "outputs": []
    },
    {
      "cell_type": "markdown",
      "metadata": {
        "id": "reserved-timber"
      },
      "source": [
        "**设定优化器**  \n",
        "这里我们使用Adam优化器  "
      ],
      "id": "reserved-timber"
    },
    {
      "cell_type": "code",
      "metadata": {
        "id": "vanilla-detail"
      },
      "source": [
        "optimizer = optim.Adam(model.parameters(), lr=0.001)"
      ],
      "id": "vanilla-detail",
      "execution_count": 20,
      "outputs": []
    },
    {
      "cell_type": "markdown",
      "metadata": {
        "id": "rental-desperate"
      },
      "source": [
        "**训练和测试（验证）**  \n",
        "各自封装成函数，方便后续调用  \n",
        "关注两者的主要区别：  \n",
        "- 模型状态设置  \n",
        "- 是否需要初始化优化器\n",
        "- 是否需要将loss传回到网络\n",
        "- 是否需要每步更新optimizer  \n",
        "  \n",
        "此外，对于测试或验证过程，可以计算分类准确率"
      ],
      "id": "rental-desperate"
    },
    {
      "cell_type": "code",
      "metadata": {
        "id": "clean-deposit"
      },
      "source": [
        "def train(epoch):\n",
        "    model.train()\n",
        "    train_loss = 0\n",
        "    for data, label in train_loader:\n",
        "        data, label = data.cuda(), label.cuda()\n",
        "        optimizer.zero_grad()\n",
        "        output = model(data)\n",
        "        loss = criterion(output, label)\n",
        "        loss.backward()\n",
        "        optimizer.step()\n",
        "        train_loss += loss.item()*data.size(0)\n",
        "    train_loss = train_loss/len(train_loader.dataset)\n",
        "    print('Epoch: {} \\tTraining Loss: {:.6f}'.format(epoch, train_loss))"
      ],
      "id": "clean-deposit",
      "execution_count": 21,
      "outputs": []
    },
    {
      "cell_type": "code",
      "metadata": {
        "id": "ordered-doubt"
      },
      "source": [
        "def val(epoch):       \n",
        "    model.eval()\n",
        "    val_loss = 0\n",
        "    gt_labels = []\n",
        "    pred_labels = []\n",
        "    with torch.no_grad():\n",
        "        for data, label in test_loader:\n",
        "            data, label = data.cuda(), label.cuda()\n",
        "            output = model(data)\n",
        "            preds = torch.argmax(output, 1)\n",
        "            gt_labels.append(label.cpu().data.numpy())\n",
        "            pred_labels.append(preds.cpu().data.numpy())\n",
        "            loss = criterion(output, label)\n",
        "            val_loss += loss.item()*data.size(0)\n",
        "    val_loss = val_loss/len(test_loader.dataset)\n",
        "    gt_labels, pred_labels = np.concatenate(gt_labels), np.concatenate(pred_labels)\n",
        "    acc = np.sum(gt_labels==pred_labels)/len(pred_labels)\n",
        "    print('Epoch: {} \\tValidation Loss: {:.6f}, Accuracy: {:6f}'.format(epoch, val_loss, acc))"
      ],
      "id": "ordered-doubt",
      "execution_count": 22,
      "outputs": []
    },
    {
      "cell_type": "code",
      "metadata": {
        "id": "indoor-paste",
        "outputId": "7b3a5050-3939-44cd-91b8-d5c95f0d918e",
        "colab": {
          "base_uri": "https://localhost:8080/"
        }
      },
      "source": [
        "for epoch in range(1, epochs+1):\n",
        "    train(epoch)\n",
        "    val(epoch)"
      ],
      "id": "indoor-paste",
      "execution_count": 23,
      "outputs": [
        {
          "output_type": "stream",
          "name": "stderr",
          "text": [
            "/usr/local/lib/python3.7/dist-packages/torch/utils/data/dataloader.py:481: UserWarning: This DataLoader will create 4 worker processes in total. Our suggested max number of worker in current system is 2, which is smaller than what this DataLoader is going to create. Please be aware that excessive worker creation might get DataLoader running slow or even freeze, lower the worker number to avoid potential slowness/freeze if necessary.\n",
            "  cpuset_checked))\n"
          ]
        },
        {
          "output_type": "stream",
          "name": "stdout",
          "text": [
            "Epoch: 1 \tTraining Loss: 0.652788\n",
            "Epoch: 1 \tValidation Loss: 0.454471, Accuracy: 0.835700\n",
            "Epoch: 2 \tTraining Loss: 0.411024\n",
            "Epoch: 2 \tValidation Loss: 0.372158, Accuracy: 0.869900\n",
            "Epoch: 3 \tTraining Loss: 0.355220\n",
            "Epoch: 3 \tValidation Loss: 0.333022, Accuracy: 0.879600\n",
            "Epoch: 4 \tTraining Loss: 0.323823\n",
            "Epoch: 4 \tValidation Loss: 0.298990, Accuracy: 0.892100\n",
            "Epoch: 5 \tTraining Loss: 0.303856\n",
            "Epoch: 5 \tValidation Loss: 0.288878, Accuracy: 0.896900\n",
            "Epoch: 6 \tTraining Loss: 0.284870\n",
            "Epoch: 6 \tValidation Loss: 0.278586, Accuracy: 0.898000\n",
            "Epoch: 7 \tTraining Loss: 0.270739\n",
            "Epoch: 7 \tValidation Loss: 0.262508, Accuracy: 0.904700\n",
            "Epoch: 8 \tTraining Loss: 0.257120\n",
            "Epoch: 8 \tValidation Loss: 0.259808, Accuracy: 0.903100\n",
            "Epoch: 9 \tTraining Loss: 0.249207\n",
            "Epoch: 9 \tValidation Loss: 0.252463, Accuracy: 0.910000\n",
            "Epoch: 10 \tTraining Loss: 0.238911\n",
            "Epoch: 10 \tValidation Loss: 0.253971, Accuracy: 0.910100\n",
            "Epoch: 11 \tTraining Loss: 0.230471\n",
            "Epoch: 11 \tValidation Loss: 0.252551, Accuracy: 0.908100\n",
            "Epoch: 12 \tTraining Loss: 0.222476\n",
            "Epoch: 12 \tValidation Loss: 0.240184, Accuracy: 0.913200\n",
            "Epoch: 13 \tTraining Loss: 0.219886\n",
            "Epoch: 13 \tValidation Loss: 0.235717, Accuracy: 0.914600\n",
            "Epoch: 14 \tTraining Loss: 0.210538\n",
            "Epoch: 14 \tValidation Loss: 0.227231, Accuracy: 0.916000\n",
            "Epoch: 15 \tTraining Loss: 0.202983\n",
            "Epoch: 15 \tValidation Loss: 0.233094, Accuracy: 0.912300\n",
            "Epoch: 16 \tTraining Loss: 0.196920\n",
            "Epoch: 16 \tValidation Loss: 0.229791, Accuracy: 0.913700\n",
            "Epoch: 17 \tTraining Loss: 0.191675\n",
            "Epoch: 17 \tValidation Loss: 0.231929, Accuracy: 0.915300\n",
            "Epoch: 18 \tTraining Loss: 0.186762\n",
            "Epoch: 18 \tValidation Loss: 0.223115, Accuracy: 0.921300\n",
            "Epoch: 19 \tTraining Loss: 0.181503\n",
            "Epoch: 19 \tValidation Loss: 0.220836, Accuracy: 0.920000\n",
            "Epoch: 20 \tTraining Loss: 0.174163\n",
            "Epoch: 20 \tValidation Loss: 0.223775, Accuracy: 0.918300\n"
          ]
        }
      ]
    },
    {
      "cell_type": "markdown",
      "metadata": {
        "id": "confident-vermont"
      },
      "source": [
        "**模型保存**  \n",
        "训练完成后，可以使用torch.save保存模型参数或者整个模型，也可以在训练过程中保存模型  \n",
        "这部分会在后面的课程中详细介绍"
      ],
      "id": "confident-vermont"
    },
    {
      "cell_type": "code",
      "metadata": {
        "id": "comic-phone"
      },
      "source": [
        "save_path = \"./FahionModel.pkl\"\n",
        "torch.save(model, save_path)"
      ],
      "id": "comic-phone",
      "execution_count": 24,
      "outputs": []
    }
  ]
}